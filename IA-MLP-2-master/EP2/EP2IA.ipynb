{
  "nbformat": 4,
  "nbformat_minor": 0,
  "metadata": {
    "colab": {
      "name": "EP2IA.ipynb",
      "provenance": [],
      "include_colab_link": true
    },
    "kernelspec": {
      "name": "python3",
      "display_name": "Python 3"
    }
  },
  "cells": [
    {
      "cell_type": "markdown",
      "metadata": {
        "id": "view-in-github",
        "colab_type": "text"
      },
      "source": [
        "<a href=\"https://colab.research.google.com/github/hugoshiroma/IA-MLP-2/blob/master/EP2IA.ipynb\" target=\"_parent\"><img src=\"https://colab.research.google.com/assets/colab-badge.svg\" alt=\"Open In Colab\"/></a>"
      ]
    },
    {
      "cell_type": "code",
      "metadata": {
        "id": "8YkHvNvc7BH9",
        "colab_type": "code",
        "outputId": "580cfc10-47c0-462c-b448-8bc1d000b47d",
        "colab": {
          "base_uri": "https://localhost:8080/",
          "height": 136
        }
      },
      "source": [
        "#!/usr/bin/python\n",
        "\n",
        "import tensorflow.compat.v1 as tf\n",
        "tf.disable_v2_behavior()\n",
        "import numpy as np\n",
        "import pandas as pd\n",
        "\n",
        "df = pd.read_csv('caracteres-limpos.csv', header=None)\n",
        "train_df = df.drop(labels=63, axis=1)\n",
        "x_data = np.array(train_df)\n",
        "\n",
        "print(x_data)"
      ],
      "execution_count": 0,
      "outputs": [
        {
          "output_type": "stream",
          "text": [
            "[[-1 -1  1 ...  1  1  1]\n",
            " [ 1  1  1 ...  1  1 -1]\n",
            " [-1 -1  1 ...  1  1 -1]\n",
            " ...\n",
            " [ 1  1  1 ...  1  1  1]\n",
            " [-1 -1 -1 ...  1 -1 -1]\n",
            " [ 1  1  1 ... -1  1  1]]\n"
          ],
          "name": "stdout"
        }
      ]
    }
  ]
}